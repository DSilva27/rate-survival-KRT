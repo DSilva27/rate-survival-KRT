{
 "cells": [
  {
   "cell_type": "markdown",
   "source": [
    "# KRAMERS TIME-DEPENDENT RATES (KTR) METHOD"
   ],
   "metadata": {
    "collapsed": false,
    "pycharm": {
     "name": "#%% md\n"
    }
   }
  },
  {
   "cell_type": "markdown",
   "source": [
    "## Introduction\n",
    "\n",
    "In this tutorial we illustrate the use of the KTR method to estimate the intrinsic rate (k_o) and the quality of bias (gamma) from metadynamics simulations by fitting numerically the cumulative distribution function.\n",
    "\n",
    "We provide the scripts for the analysis of the COLVAR files from PLUMED.\n",
    "\n",
    "Reference paper: Palacio-Rodriguez, Vroylandt, Stelzl, Pietrucci, Hummer, & Cossio. (2021) [arXiv:2109.11360](https://arxiv.org/abs/2109.11360)."
   ],
   "metadata": {
    "collapsed": false,
    "pycharm": {
     "name": "#%% md\n"
    }
   }
  },
  {
   "cell_type": "code",
   "execution_count": 11,
   "outputs": [],
   "source": [
    "import numpy as np\n",
    "import glob\n",
    "import matplotlib\n",
    "from matplotlib import pyplot as plt\n",
    "%matplotlib inline"
   ],
   "metadata": {
    "collapsed": false,
    "pycharm": {
     "name": "#%%\n"
    }
   }
  },
  {
   "cell_type": "code",
   "execution_count": 25,
   "outputs": [
    {
     "name": "stdout",
     "output_type": "stream",
     "text": [
      "Number of colvar files    : 50\n",
      "Max number of overall rows: 34253\n",
      "Example of loaded data:\n",
      "#! FIELDS time d metad.bias acceleration.factor\n",
      "[[0.       1.676266 0.       1.      ]\n",
      " [0.1      1.672725 0.       1.      ]\n",
      " [0.2      1.673073 0.       1.      ]\n",
      " [0.3      1.676354 0.       1.      ]\n",
      " [0.4      1.677375 0.       1.      ]\n",
      " [0.5      1.674929 0.       1.      ]\n",
      " [0.6      1.671249 0.       1.      ]\n",
      " [0.7      1.66508  0.       1.      ]\n",
      " [0.8      1.660368 0.       1.      ]\n",
      " [0.9      1.658337 0.       1.      ]]\n"
     ]
    }
   ],
   "source": [
    "# Load all colvar files\n",
    "numprocs = 8\n",
    "colvars = glob.glob(\"colvars/*\")\n",
    "colvars_count = len(colvars)\n",
    "colvars_maxrow_count = None\n",
    "\n",
    "data = []\n",
    "for colvar in colvars:\n",
    "    data.append(np.loadtxt(colvar))\n",
    "    colvars_maxrow_count = data[-1].shape[0] if colvars_maxrow_count is None or colvars_maxrow_count < data[-1].shape[0] else colvars_maxrow_count\n",
    "\n",
    "# Print first lines to check that the data is loaded correctly\n",
    "print(f'Number of colvar files    : {colvars_count}')\n",
    "print(f'Max number of overall rows: {colvars_maxrow_count}')\n",
    "print('Example of loaded data:')\n",
    "print('#! FIELDS time d metad.bias acceleration.factor') # Corresponding columns for our example\n",
    "print(data[0][:10])"
   ],
   "metadata": {
    "collapsed": false,
    "pycharm": {
     "name": "#%%\n"
    }
   }
  },
  {
   "cell_type": "code",
   "execution_count": 28,
   "outputs": [],
   "source": [
    "# Estimate maximum bias for each colvar file\n",
    "def set_max_accumulate(dataset, numcol = 2):\n",
    "    max_value_found = None\n",
    "    for i in range(dataset.shape[0]):\n",
    "        max_value_found = dataset[i][numcol] if max_value_found is None or max_value_found < dataset[i][numcol] else max_value_found\n",
    "        dataset[i][numcol] = max_value_found\n",
    "\n",
    "for i in range(colvars_count):\n",
    "    set_max_accumulate(data[i])"
   ],
   "metadata": {
    "collapsed": false,
    "pycharm": {
     "name": "#%%\n"
    }
   }
  },
  {
   "cell_type": "code",
   "execution_count": 30,
   "outputs": [
    {
     "data": {
      "text/plain": "[<matplotlib.lines.Line2D at 0x7fe1079eec18>]"
     },
     "execution_count": 30,
     "metadata": {},
     "output_type": "execute_result"
    },
    {
     "data": {
      "text/plain": "<Figure size 600x400 with 1 Axes>",
      "image/png": "[encoded data removed]"
     },
     "metadata": {
      "needs_background": "light"
     },
     "output_type": "display_data"
    }
   ],
   "source": [
    "# Estimate average maximum bias (VMB) over all the colvars\n",
    "vmb_data = np.empty((colvars_count, colvars_maxrow_count))\n",
    "vmb_data.fill(np.nan)\n",
    "ix_col = None\n",
    "\n",
    "def fill_vmb_data(colvar_index):\n",
    "    vmb_column_data = data[colvar_index][:,2]\n",
    "    diff_rows = colvars_maxrow_count - vmb_column_data.shape[0]\n",
    "    if 0 < diff_rows:\n",
    "        fill_diff = np.empty(diff_rows)\n",
    "        fill_diff.fill(np.nan)\n",
    "        vmb_column_data = np.hstack((vmb_column_data, fill_diff))\n",
    "    vmb_data[colvar_index,:] = vmb_column_data\n",
    "    return data[colvar_index][:,0] if data[colvar_index][:,0].shape[0] == colvars_maxrow_count else None\n",
    "\n",
    "for i in range(colvars_count):\n",
    "    i_ix_col = fill_vmb_data(i)\n",
    "    if None is not i_ix_col:\n",
    "        ix_col = i_ix_col\n",
    "\n",
    "#print(ix_col.shape[0])\n",
    "\n",
    "g = ix_col[0]\n",
    "\n",
    "#for i in range(1,ix_col.shape[0]):\n",
    "#    if(g > ix_col[i]):\n",
    "#        print(f'{ix_col[i]} ({g - ix_col[i]})')\n",
    "#    else:\n",
    "#        g = ix_col[i]\n",
    "\n",
    "masked_vmb = np.ma.masked_array(vmb_data, np.isnan(vmb_data))\n",
    "vmb_average = np.ma.average(masked_vmb.T, axis=1)\n",
    "vmb_average = np.vstack((ix_col, vmb_average)).T\n",
    "\n",
    "# Plot VMB\n",
    "fig,ax = plt.subplots(figsize=(6,4),dpi=100)\n",
    "ax.set_xlabel('time (ps)')\n",
    "ax.set_ylabel('VMB (kT)')\n",
    "\n",
    "plt.plot(vmb_average[:,0], vmb_average[:,1], lw=1.0)"
   ],
   "metadata": {
    "collapsed": false,
    "pycharm": {
     "name": "#%%\n"
    }
   }
  },
  {
   "cell_type": "code",
   "execution_count": null,
   "outputs": [],
   "source": [
    "#Output1: VMB plot"
   ],
   "metadata": {
    "collapsed": false,
    "pycharm": {
     "name": "#%%\n"
    }
   }
  },
  {
   "cell_type": "code",
   "execution_count": 5,
   "outputs": [],
   "source": [
    "#Output2: CDF fit"
   ],
   "metadata": {
    "collapsed": false,
    "pycharm": {
     "name": "#%%\n"
    }
   }
  },
  {
   "cell_type": "code",
   "execution_count": 6,
   "outputs": [],
   "source": [
    "#Output3: k_0 and gamma"
   ],
   "metadata": {
    "collapsed": false,
    "pycharm": {
     "name": "#%%\n"
    }
   }
  }
 ],
 "metadata": {
  "kernelspec": {
   "display_name": "Python 3",
   "language": "python",
   "name": "python3"
  },
  "language_info": {
   "codemirror_mode": {
    "name": "ipython",
    "version": 2
   },
   "file_extension": ".py",
   "mimetype": "text/x-python",
   "name": "python",
   "nbconvert_exporter": "python",
   "pygments_lexer": "ipython2",
   "version": "2.7.6"
  }
 },
 "nbformat": 4,
 "nbformat_minor": 0
}